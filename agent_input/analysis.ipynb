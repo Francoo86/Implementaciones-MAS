{
 "cells": [
  {
   "cell_type": "code",
   "execution_count": 2,
   "metadata": {},
   "outputs": [
    {
     "name": "stdout",
     "output_type": "stream",
     "text": [
      "    Turno Codigo  Capacidad       Campus\n",
      "51     52   LFLO          8  Playa Brava\n",
      "60     61    LSO          8  Playa Brava\n",
      "18     19    IM4          9  Playa Brava\n",
      "35     36  KAUT8         10     Kaufmann\n",
      "67     68    TBD         11  Playa Brava\n",
      "..    ...    ...        ...          ...\n",
      "24     25  KAUS1         68     Kaufmann\n",
      "7       8  CRP43         71  Playa Brava\n",
      "6       7  CRP33         71  Playa Brava\n",
      "14     15    IC4         77  Playa Brava\n",
      "20     21     K1         82  Playa Brava\n",
      "\n",
      "[73 rows x 4 columns]\n"
     ]
    }
   ],
   "source": [
    "import pandas as pd\n",
    "\n",
    "df = pd.read_json(\"inputOfSala.json\")\n",
    "\n",
    "# order by capacidad by asc\n",
    "df = df.sort_values(by='Capacidad', ascending=True)\n",
    "\n",
    "print(df)"
   ]
  },
  {
   "cell_type": "code",
   "execution_count": 5,
   "metadata": {},
   "outputs": [
    {
     "name": "stdout",
     "output_type": "stream",
     "text": [
      "\n",
      "Top 15 Subjects by Vacancies:\n",
      "   CodigoAsignatura                     Nombre  Vacantes  Nivel       Campus\n",
      "0         (IC904-A)                 PRODUCCION         1      9  Playa Brava\n",
      "1         (IC902-A)    SISTEMAS DE INFORMACIÓN         2      9  Playa Brava\n",
      "2         (CCI95-A)  METODOLOGIA DE LA INVESTI         3      9  Playa Brava\n",
      "3         (IEP3C-A)       SALUD OCUPACIONAL II         5      3  Playa Brava\n",
      "4         (ICA94-A)  PLANIFICACION TERRITORIAL         5      9  Playa Brava\n",
      "5        (INT56-FB)       INGENIERIA ECONOMICA        10      5  Playa Brava\n",
      "6        (INT61-FB)        MECANICA DE FLUIDOS        10      6  Playa Brava\n",
      "7         (ICE64-A)  LABORATORIO DE ELECTRÓNIC        10      6  Playa Brava\n",
      "8         (IMEB9-A)  DERECHO MINERO Y AMBIENTA        10      9  Playa Brava\n",
      "9         (ICE63-A)         SISTEMAS DIGITALES        10      6  Playa Brava\n",
      "10        (ICA61-A)        MECANICA DE FLUIDOS        10      6  Playa Brava\n",
      "11        (ICA63-A)    FENOMENOS DE TRANSPORTE        10      6  Playa Brava\n",
      "12        (ICA44-A)  BIOQUIMICA Y MICROBIOLOGI        10      4  Playa Brava\n",
      "13        (ICA82-A)   TRATAMIENTO DE EMISIONES        10      8  Playa Brava\n",
      "14       (INT57-FA)          GESTION AMBIENTAL        10      5  Playa Brava\n",
      "15       (INT82-FB)  DESARROLLO Y EVALUACION D        10      8  Playa Brava\n",
      "16        (IMIC4-A)   MODELAMIENTO GEOMECÁNICO        10      4  Playa Brava\n",
      "17        (ICE61-A)        MÁQUINAS ELÉCTRICAS        10      6  Playa Brava\n",
      "18        (ICA64-A)     BIOTECNOLOGIA APLICADA        10      6  Playa Brava\n",
      "19        (ICE65-A)             ELECTRÓNICA II        10      6  Playa Brava\n",
      "20        (IMIC5-A)   SEMINARIO DE PREPARACIÓN        10      5  Playa Brava\n",
      "21        (ICA83-A)  TRAMIENTO DE RESIDUOS LIQ        10      8  Playa Brava\n",
      "22       (INT24-FA)              COMPUTACION I        10      2  Playa Brava\n",
      "23       (INT59-FB)               PRODUCCION I        10      5  Playa Brava\n",
      "24        (ICA65-A)  SISTEMA DE INFORMACION GE        10      6  Playa Brava\n",
      "25        (ICA81-A)  INVESTIGACION DE OPERACIO        10      8  Playa Brava\n",
      "26        (ICA84-A)        EVALUCION AMBIENTAL        10      8  Playa Brava\n",
      "27       (INT52-FA)              TERMODINAMICA        11      5  Playa Brava\n",
      "28       (INT52-FB)              TERMODINAMICA        11      5  Playa Brava\n",
      "29       (INT51-FB)              MICROECONOMIA        11      5  Playa Brava\n",
      "30       (INT42-FB)  CONTABILIDAD Y SISTEMAS D        11      4  Playa Brava\n",
      "31        (ICAA6-A)  CAMBIO CLIMÁTICO Y RESILE        12      6  Playa Brava\n",
      "32        (ICAA1-A)  DESARROLLO Y GESTION DE P        12      1  Playa Brava\n",
      "33        (ICAA2-A)          GESTION AMBIENTAL        12      2  Playa Brava\n",
      "34        (ICEA4-A)    LABORATORIO DE ROBÓTICA        15      4  Playa Brava\n",
      "35        (ICEA3-A)  LABORATORIO DE CONTROL DI        15      3  Playa Brava\n",
      "36        (CCI64-B)   INGENIERÍA DE REQUISITOS        15      6  Playa Brava\n",
      "37        (ICE44-A)          TEORÍA DE REDES I        15      4  Playa Brava\n",
      "38        (CCI64-A)   INGENIERÍA DE REQUISITOS        15      6  Playa Brava\n",
      "39        (ICEA5-A)   PROCESAMIENTO DIGITAL DE        15      5  Playa Brava\n"
     ]
    }
   ],
   "source": [
    "def get_top_subjects(data):\n",
    "    # Create a list to store all subjects\n",
    "    all_subjects = []\n",
    "    \n",
    "    # Extract subjects from the nested structure\n",
    "    for person in data:\n",
    "        for subject in person['Asignaturas']:\n",
    "            # Create a dictionary with the relevant information\n",
    "            subject_info = {\n",
    "                'CodigoAsignatura': subject['CodigoAsignatura'],\n",
    "                'Nombre': subject['Nombre'],\n",
    "                'Vacantes': subject['Vacantes'],\n",
    "                'Nivel': subject['Nivel'],\n",
    "                'Campus': subject['Campus']\n",
    "            }\n",
    "            all_subjects.append(subject_info)\n",
    "    \n",
    "    # Create DataFrame\n",
    "    df = pd.DataFrame(all_subjects)\n",
    "    \n",
    "    # Drop duplicates based on CodigoAsignatura and Nombre\n",
    "    # This prevents showing the same subject multiple times if it appears in different schedules\n",
    "    df = df.drop_duplicates(subset=['CodigoAsignatura', 'Nombre'])\n",
    "    \n",
    "    # Sort by Vacantes in descending order and get top 15\n",
    "    top_15 = df.sort_values(by='Vacantes', ascending=True).head(40)\n",
    "    \n",
    "    # Reset index for clean display\n",
    "    top_15 = top_15.reset_index(drop=True)\n",
    "    \n",
    "    return top_15\n",
    "\n",
    "import json\n",
    "\n",
    "data = json.load(open(\"inputOfProfesores.json\", \"r\", encoding=\"utf-8\"))\n",
    "\n",
    "# Create DataFrame and display results\n",
    "top_subjects = get_top_subjects(data)  # where data is your JSON\n",
    "print(\"\\nTop 15 Subjects by Vacancies:\")\n",
    "print(top_subjects[['CodigoAsignatura', 'Nombre', 'Vacantes', 'Nivel', 'Campus']])"
   ]
  }
 ],
 "metadata": {
  "kernelspec": {
   "display_name": "venv",
   "language": "python",
   "name": "python3"
  },
  "language_info": {
   "codemirror_mode": {
    "name": "ipython",
    "version": 3
   },
   "file_extension": ".py",
   "mimetype": "text/x-python",
   "name": "python",
   "nbconvert_exporter": "python",
   "pygments_lexer": "ipython3",
   "version": "3.11.1"
  }
 },
 "nbformat": 4,
 "nbformat_minor": 2
}
