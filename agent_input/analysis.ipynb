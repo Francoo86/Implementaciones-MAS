{
 "cells": [
  {
   "cell_type": "code",
   "execution_count": 3,
   "metadata": {},
   "outputs": [
    {
     "name": "stdout",
     "output_type": "stream",
     "text": [
      "    Turno Codigo  Capacidad       Campus\n",
      "51     52   LFLO          8  Playa Brava\n",
      "60     61    LSO          8  Playa Brava\n",
      "18     19    IM4          9  Playa Brava\n",
      "35     36  KAUT8         10     Kaufmann\n",
      "67     68    TBD         11  Playa Brava\n",
      "..    ...    ...        ...          ...\n",
      "24     25  KAUS1         68     Kaufmann\n",
      "7       8  CRP43         71  Playa Brava\n",
      "6       7  CRP33         71  Playa Brava\n",
      "14     15    IC4         77  Playa Brava\n",
      "20     21     K1         82  Playa Brava\n",
      "\n",
      "[73 rows x 4 columns]\n"
     ]
    }
   ],
   "source": [
    "import pandas as pd\n",
    "\n",
    "df = pd.read_json(\"inputOfSala.json\")\n",
    "\n",
    "# order by capacidad by asc\n",
    "df = df.sort_values(by='Capacidad', ascending=True)\n",
    "\n",
    "print(df)"
   ]
  },
  {
   "cell_type": "code",
   "execution_count": 6,
   "metadata": {},
   "outputs": [
    {
     "name": "stdout",
     "output_type": "stream",
     "text": [
      "\n",
      "Top 15 Subjects by Vacancies:\n",
      "   CodigoAsignatura                     Nombre  Vacantes  Nivel       Campus\n",
      "0         (IEP3C-A)       SALUD OCUPACIONAL II         0      3  Playa Brava\n",
      "1         (IC904-A)                 PRODUCCION         0      9  Playa Brava\n",
      "2         (CCI82-A)               COMPILADORES         0      8  Playa Brava\n",
      "3         (IC902-A)    SISTEMAS DE INFORMACIÓN         0      9  Playa Brava\n",
      "4         (ICA02-A)        GESTION ESTRATEGICA         0      0  Playa Brava\n",
      "5         (ICA01-A)  CREATIVIDAD, INNOVACION Y         0      0  Playa Brava\n",
      "6         (ICA94-A)  PLANIFICACION TERRITORIAL         0      9  Playa Brava\n",
      "7         (CCI61-A)         SISTEMAS DIGITALES         0      6  Playa Brava\n",
      "8         (ARQC9-A)  TEMÁTICAS EMERGENTES SOBR         0      9  Playa Brava\n",
      "9        (PRO54-ON)         QUÍMICA INDUSTRIAL         0      5  Playa Brava\n",
      "10       (PRO52-ON)  LEGISLACIÓN DE SALUD Y SE         0      5  Playa Brava\n",
      "11        (CCI95-A)  METODOLOGIA DE LA INVESTI         0      9  Playa Brava\n",
      "12        (ICA85-A)       SIMULACION AMBIENTAL         0      8  Playa Brava\n",
      "13        (IMIC5-A)   SEMINARIO DE PREPARACIÓN         1      5  Playa Brava\n",
      "14        (INT34-J)                  FISICA II         1      3  Playa Brava\n"
     ]
    }
   ],
   "source": [
    "def get_top_subjects(data):\n",
    "    # Create a list to store all subjects\n",
    "    all_subjects = []\n",
    "    \n",
    "    # Extract subjects from the nested structure\n",
    "    for person in data:\n",
    "        for subject in person['Asignaturas']:\n",
    "            # Create a dictionary with the relevant information\n",
    "            subject_info = {\n",
    "                'CodigoAsignatura': subject['CodigoAsignatura'],\n",
    "                'Nombre': subject['Nombre'],\n",
    "                'Vacantes': subject['Vacantes'],\n",
    "                'Nivel': subject['Nivel'],\n",
    "                'Campus': subject['Campus']\n",
    "            }\n",
    "            all_subjects.append(subject_info)\n",
    "    \n",
    "    # Create DataFrame\n",
    "    df = pd.DataFrame(all_subjects)\n",
    "    \n",
    "    # Drop duplicates based on CodigoAsignatura and Nombre\n",
    "    # This prevents showing the same subject multiple times if it appears in different schedules\n",
    "    df = df.drop_duplicates(subset=['CodigoAsignatura', 'Nombre'])\n",
    "    \n",
    "    # Sort by Vacantes in descending order and get top 15\n",
    "    top_15 = df.sort_values(by='Vacantes', ascending=True).head(40)\n",
    "    \n",
    "    # Reset index for clean display\n",
    "    top_15 = top_15.reset_index(drop=True)\n",
    "    \n",
    "    return top_15\n",
    "\n",
    "import json\n",
    "\n",
    "data = json.load(open(\"inputOfProfesores.json\", \"r\", encoding=\"utf-8\"))\n",
    "\n",
    "# Create DataFrame and display results\n",
    "top_subjects = get_top_subjects(data)  # where data is your JSON\n",
    "print(\"\\nTop 15 Subjects by Vacancies:\")\n",
    "print(top_subjects[['CodigoAsignatura', 'Nombre', 'Vacantes', 'Nivel', 'Campus']])"
   ]
  }
 ],
 "metadata": {
  "kernelspec": {
   "display_name": "venv",
   "language": "python",
   "name": "python3"
  },
  "language_info": {
   "codemirror_mode": {
    "name": "ipython",
    "version": 3
   },
   "file_extension": ".py",
   "mimetype": "text/x-python",
   "name": "python",
   "nbconvert_exporter": "python",
   "pygments_lexer": "ipython3",
   "version": "3.11.1"
  }
 },
 "nbformat": 4,
 "nbformat_minor": 2
}
